{
 "cells": [
  {
   "cell_type": "code",
   "execution_count": null,
   "id": "099dbae9-fd34-4221-b2e3-22f38c6fb012",
   "metadata": {},
   "outputs": [],
   "source": []
  }
 ],
 "metadata": {
  "kernelspec": {
   "display_name": "",
   "name": ""
  },
  "language_info": {
   "name": ""
  }
 },
 "nbformat": 4,
 "nbformat_minor": 5
}
